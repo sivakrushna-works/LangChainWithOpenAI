{
 "cells": [
  {
   "cell_type": "code",
   "execution_count": 16,
   "metadata": {},
   "outputs": [
    {
     "data": {
      "text/plain": [
       "True"
      ]
     },
     "execution_count": 16,
     "metadata": {},
     "output_type": "execute_result"
    }
   ],
   "source": [
    "import os\n",
    "from dotenv import load_dotenv\n",
    "load_dotenv()"
   ]
  },
  {
   "cell_type": "code",
   "execution_count": 17,
   "metadata": {},
   "outputs": [],
   "source": [
    "os.environ[\"OPENAI_API_KEY\"]=os.getenv(\"OPENAI_API_KEY\")\n",
    "os.environ[\"LANGCHAIN_API_KEY\"]=os.getenv(\"LANGCHAIN_API_KEY\")\n",
    "os.environ[\"LANGCHAIN_TRACING_V2\"]=\"true\"\n",
    "os.environ[\"LANGCHAIN_PROJECT\"]=os.getenv(\"LANGCHAIN_PROJECT\")"
   ]
  },
  {
   "cell_type": "code",
   "execution_count": 18,
   "metadata": {},
   "outputs": [],
   "source": [
    "from langchain_openai import ChatOpenAI\n",
    "llm = ChatOpenAI()"
   ]
  },
  {
   "cell_type": "code",
   "execution_count": 19,
   "metadata": {},
   "outputs": [
    {
     "data": {
      "text/plain": [
       "AIMessage(content='Gen AI, short for General Artificial Intelligence, refers to a hypothetical future form of artificial intelligence that would possess the ability to understand and learn any intellectual task that a human being can. It would be capable of reasoning, problem-solving, social interactions, creativity, and adapting to different situations in a way that is indistinguishable from human intelligence. Gen AI is considered to be the ultimate goal of AI research and development, as it would have a wide range of potential applications across various industries and fields.', additional_kwargs={'refusal': None}, response_metadata={'token_usage': {'completion_tokens': 100, 'prompt_tokens': 12, 'total_tokens': 112, 'completion_tokens_details': {'accepted_prediction_tokens': 0, 'audio_tokens': 0, 'reasoning_tokens': 0, 'rejected_prediction_tokens': 0}, 'prompt_tokens_details': {'audio_tokens': 0, 'cached_tokens': 0}}, 'model_name': 'gpt-3.5-turbo-0125', 'system_fingerprint': None, 'id': 'chatcmpl-BFakAkFpho5JSsiVTKAABadRCRhIK', 'finish_reason': 'stop', 'logprobs': None}, id='run-69dee80e-762b-4a73-9739-bbba0fd115b2-0', usage_metadata={'input_tokens': 12, 'output_tokens': 100, 'total_tokens': 112, 'input_token_details': {'audio': 0, 'cache_read': 0}, 'output_token_details': {'audio': 0, 'reasoning': 0}})"
      ]
     },
     "execution_count": 19,
     "metadata": {},
     "output_type": "execute_result"
    }
   ],
   "source": [
    "result = llm.invoke(\"What is Gen AI?\")\n",
    "result"
   ]
  },
  {
   "cell_type": "code",
   "execution_count": 23,
   "metadata": {},
   "outputs": [],
   "source": [
    "### chatpromt tempaltes\n",
    "from langchain_core.prompts import ChatPromptTemplate\n",
    "promt = ChatPromptTemplate.from_messages(\n",
    "    [\n",
    "        (\"system\",\"You are an expert AI engineer, provide me answer based on qurestion\"),\n",
    "        (\"user\",\"{input}\")\n",
    "    ]\n",
    ")\n"
   ]
  },
  {
   "cell_type": "code",
   "execution_count": 24,
   "metadata": {},
   "outputs": [
    {
     "name": "stdout",
     "output_type": "stream",
     "text": [
      "content='If Langsmith projects are not reflecting in the projects list in the Langsmith dashboard, there could be several reasons for this issue. Some possible explanations include:\\n\\n1. **Delay in data synchronization**: Sometimes, there may be a delay in the synchronization of data between the Langsmith projects database and the dashboard. This can cause a lag in updating the projects list in the dashboard with the most recent projects.\\n\\n2. **Permissions settings**: It is possible that there are permissions settings in place that prevent certain projects from being displayed in the dashboard for specific users or user roles. The user may need to have the correct permissions to view all projects.\\n\\n3. **Filter settings**: Check if there are any filter settings applied to the projects list in the dashboard that may be inadvertently excluding Langsmith projects. Make sure that the filters are correctly configured to display all projects.\\n\\n4. **Technical issues**: There could be technical issues such as server problems, connectivity issues, or software bugs that are preventing the Langsmith projects from appearing in the projects list. It may require troubleshooting by the technical support team.\\n\\n5. **Data retrieval errors**: There could be errors in retrieving or populating the Langsmith projects data in the dashboard due to issues with data integration or API connections. This would require investigating the data retrieval mechanisms to identify and resolve any errors.\\n\\nTo address this issue, I recommend reaching out to the Langsmith technical support team or system administrator to investigate the root cause of the problem and implement the necessary solutions to ensure that Langsmith projects are correctly reflected in the projects list in the Langsmith dashboard.' additional_kwargs={'refusal': None} response_metadata={'token_usage': {'completion_tokens': 317, 'prompt_tokens': 39, 'total_tokens': 356, 'completion_tokens_details': {'accepted_prediction_tokens': 0, 'audio_tokens': 0, 'reasoning_tokens': 0, 'rejected_prediction_tokens': 0}, 'prompt_tokens_details': {'audio_tokens': 0, 'cached_tokens': 0}}, 'model_name': 'gpt-3.5-turbo-0125', 'system_fingerprint': None, 'id': 'chatcmpl-BFc9HOST7SysNxSb4kwiZqdBpGreC', 'finish_reason': 'stop', 'logprobs': None} id='run-bf4adc6a-5545-4430-9c42-80363a8dc219-0' usage_metadata={'input_tokens': 39, 'output_tokens': 317, 'total_tokens': 356, 'input_token_details': {'audio': 0, 'cache_read': 0}, 'output_token_details': {'audio': 0, 'reasoning': 0}}\n"
     ]
    }
   ],
   "source": [
    "chain = promt|llm\n",
    "\n",
    "result = chain.invoke({\"input\":\"why langsmith projects not reflecting in projects list in langsmith dashboard\"})\n",
    "\n",
    "print(result)"
   ]
  },
  {
   "cell_type": "code",
   "execution_count": null,
   "metadata": {},
   "outputs": [
    {
     "name": "stdout",
     "output_type": "stream",
     "text": [
      "There could be several reasons why Langsmith projects may not be reflecting in the projects list in the Langsmith dashboard:\n",
      "\n",
      "1. **Permission Issue**: Make sure that you have the necessary permissions to view the projects. Check with the admin or project manager to ensure that you have the correct access rights.\n",
      "\n",
      "2. **Filter Settings**: The projects list may be filtered based on certain criteria such as project status, date, or owner. Double-check the filter settings to ensure that Langsmith projects are included in the list.\n",
      "\n",
      "3. **Syncing Issue**: There might be a syncing issue between the Langsmith platform and the dashboard. Try refreshing the page or re-syncing the data to see if the Langsmith projects appear.\n",
      "\n",
      "4. **Technical Glitch**: Sometimes, technical glitches can occur that prevent certain projects from displaying correctly. In this case, reaching out to technical support or the platform's customer service team can help troubleshoot the issue.\n",
      "\n",
      "5. **Incomplete Setup**: Ensure that the Langsmith projects have been properly set up and assigned within the platform. If projects are not correctly categorized or tagged, they may not show up in the dashboard.\n",
      "\n",
      "By investigating these potential reasons, you can troubleshoot why Langsmith projects are not reflecting in the projects list on the dashboard and take appropriate action to resolve the issue.\n"
     ]
    }
   ],
   "source": [
    "### output parser. It parse the rsult output\n",
    "from langchain_core.output_parsers import StrOutputParser\n",
    "output_parser =  StrOutputParser()\n",
    "\n",
    "chain = promt|llm|output_parser\n",
    "\n",
    "result = chain.invoke({\"input\":\"why langsmith projects not reflecting in projects list in langsmith dashboard\"})\n",
    "\n",
    "print(result)"
   ]
  }
 ],
 "metadata": {
  "kernelspec": {
   "display_name": "Python 3",
   "language": "python",
   "name": "python3"
  },
  "language_info": {
   "codemirror_mode": {
    "name": "ipython",
    "version": 3
   },
   "file_extension": ".py",
   "mimetype": "text/x-python",
   "name": "python",
   "nbconvert_exporter": "python",
   "pygments_lexer": "ipython3",
   "version": "3.10.0"
  }
 },
 "nbformat": 4,
 "nbformat_minor": 2
}
